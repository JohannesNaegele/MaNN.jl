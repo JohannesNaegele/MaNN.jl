{
 "cells": [
  {
   "cell_type": "code",
   "execution_count": 1,
   "metadata": {},
   "outputs": [
    {
     "ename": "UndefVarError",
     "evalue": "UndefVarError: `MNIST` not defined",
     "output_type": "error",
     "traceback": [
      "UndefVarError: `MNIST` not defined\n",
      "\n",
      "Stacktrace:\n",
      "  [1] eval\n",
      "    @ .\\boot.jl:370 [inlined]\n",
      "  [2] include_string(mapexpr::typeof(REPL.softscope), mod::Module, code::String, filename::String)\n",
      "    @ Base .\\loading.jl:1903\n",
      "  [3] #invokelatest#2\n",
      "    @ .\\essentials.jl:819 [inlined]\n",
      "  [4] invokelatest\n",
      "    @ .\\essentials.jl:816 [inlined]\n",
      "  [5] (::VSCodeServer.var\"#202#203\"{VSCodeServer.NotebookRunCellArguments, String})()\n",
      "    @ VSCodeServer c:\\Users\\Luisa\\.vscode\\extensions\\julialang.language-julia-1.54.2\\scripts\\packages\\VSCodeServer\\src\\serve_notebook.jl:19\n",
      "  [6] withpath(f::VSCodeServer.var\"#202#203\"{VSCodeServer.NotebookRunCellArguments, String}, path::String)\n",
      "    @ VSCodeServer c:\\Users\\Luisa\\.vscode\\extensions\\julialang.language-julia-1.54.2\\scripts\\packages\\VSCodeServer\\src\\repl.jl:274\n",
      "  [7] notebook_runcell_request(conn::VSCodeServer.JSONRPC.JSONRPCEndpoint{Base.PipeEndpoint, Base.PipeEndpoint}, params::VSCodeServer.NotebookRunCellArguments)\n",
      "    @ VSCodeServer c:\\Users\\Luisa\\.vscode\\extensions\\julialang.language-julia-1.54.2\\scripts\\packages\\VSCodeServer\\src\\serve_notebook.jl:13\n",
      "  [8] dispatch_msg(x::VSCodeServer.JSONRPC.JSONRPCEndpoint{Base.PipeEndpoint, Base.PipeEndpoint}, dispatcher::VSCodeServer.JSONRPC.MsgDispatcher, msg::Dict{String, Any})\n",
      "    @ VSCodeServer.JSONRPC c:\\Users\\Luisa\\.vscode\\extensions\\julialang.language-julia-1.54.2\\scripts\\packages\\JSONRPC\\src\\typed.jl:67\n",
      "  [9] serve_notebook(pipename::String, outputchannel_logger::Base.CoreLogging.SimpleLogger; crashreporting_pipename::String)\n",
      "    @ VSCodeServer c:\\Users\\Luisa\\.vscode\\extensions\\julialang.language-julia-1.54.2\\scripts\\packages\\VSCodeServer\\src\\serve_notebook.jl:139\n",
      " [10] top-level scope\n",
      "    @ c:\\Users\\Luisa\\.vscode\\extensions\\julialang.language-julia-1.54.2\\scripts\\notebook\\notebook.jl:32"
     ]
    }
   ],
   "source": [
    "using Flux\n",
    "using Flux.Data.MNIST\n",
    "using Plots\n",
    "\n",
    "# Load the trained model (replace with the actual path to your model file)\n",
    "model\n",
    "\n",
    "# Define a function to visualize the results\n",
    "function visualize_results(model, data)\n",
    "    num_samples = 10  # Number of samples to visualize\n",
    "    selected_indices = rand(1:length(data[1]), num_samples)\n",
    "\n",
    "    plot_array = []\n",
    "    for i in selected_indices\n",
    "        x = data[1][:, i]\n",
    "        y_true = data[2][i]\n",
    "        y_pred = Flux.onecold(model(x))\n",
    "\n",
    "        img = reshape(x, 28, 28)\n",
    "        title = \"True: \"+y_true+\" Predicted: \"+y_pred\n",
    "\n",
    "        push!(plot_array, heatmap(img, color=:grays, title=title))\n",
    "    end\n",
    "\n",
    "    plot(plot_array..., layout=(2, 5))\n",
    "end\n",
    "\n",
    "# Visualize the results\n",
    "visualize_results(model, testset.targets)\n"
   ]
  }
 ],
 "metadata": {
  "kernelspec": {
   "display_name": "Julia 1.9.3",
   "language": "julia",
   "name": "julia-1.9"
  },
  "language_info": {
   "file_extension": ".jl",
   "mimetype": "application/julia",
   "name": "julia",
   "version": "1.9.3"
  }
 },
 "nbformat": 4,
 "nbformat_minor": 2
}
